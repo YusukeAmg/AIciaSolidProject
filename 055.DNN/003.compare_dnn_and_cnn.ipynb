{
 "cells": [
  {
   "cell_type": "code",
   "execution_count": 1,
   "metadata": {},
   "outputs": [],
   "source": [
    "import numpy as np\n",
    "import matplotlib.pyplot as plt\n",
    "import pandas as pd"
   ]
  },
  {
   "cell_type": "code",
   "execution_count": 2,
   "metadata": {},
   "outputs": [],
   "source": [
    "df_result_dnn = pd.read_csv('dnn_results.csv')\n",
    "df_result_dnn['type'] = 'dnn'\n",
    "df_result_dnn = df_result_dnn[['type', 'n_param', 'accuracy']]\n",
    "\n",
    "df_result_cnn = pd.read_csv('cnn_results.csv')\n",
    "df_result_cnn['type'] = 'cnn'\n",
    "df_result_cnn = df_result_cnn[['type', 'n_param', 'accuracy']]"
   ]
  },
  {
   "cell_type": "code",
   "execution_count": 3,
   "metadata": {},
   "outputs": [],
   "source": [
    "df_result_dnn['ln_param'] = np.log(df_result_dnn['n_param'] + 1)\n",
    "df_result_dnn['log_odds'] = np.log(df_result_dnn['accuracy']/(1-df_result_dnn['accuracy']))\n",
    "\n",
    "df_result_cnn['ln_param'] = np.log(df_result_cnn['n_param'] + 1)\n",
    "df_result_cnn['log_odds'] = np.log(df_result_cnn['accuracy']/(1-df_result_cnn['accuracy']))"
   ]
  },
  {
   "cell_type": "code",
   "execution_count": 4,
   "metadata": {},
   "outputs": [
    {
     "data": {
      "image/png": "[encoded data removed]",
      "text/plain": [
       "<Figure size 432x288 with 1 Axes>"
      ]
     },
     "metadata": {
      "needs_background": "light"
     },
     "output_type": "display_data"
    }
   ],
   "source": [
    "plt.scatter(df_result_dnn['ln_param'], df_result_dnn['log_odds'], label='dnn')\n",
    "plt.scatter(df_result_cnn['ln_param'], df_result_cnn['log_odds'], label='cnn')\n",
    "plt.xlabel('ln_param')\n",
    "plt.ylabel('accuracy (log odds)')\n",
    "plt.legend()\n",
    "plt.show()"
   ]
  },
  {
   "cell_type": "code",
   "execution_count": null,
   "metadata": {},
   "outputs": [],
   "source": []
  }
 ],
 "metadata": {
  "environment": {
   "name": "tf2-gpu.2-1.m46",
   "type": "gcloud",
   "uri": "gcr.io/deeplearning-platform-release/tf2-gpu.2-1:m46"
  },
  "kernelspec": {
   "display_name": "Python 3",
   "language": "python",
   "name": "python3"
  },
  "language_info": {
   "codemirror_mode": {
    "name": "ipython",
    "version": 3
   },
   "file_extension": ".py",
   "mimetype": "text/x-python",
   "name": "python",
   "nbconvert_exporter": "python",
   "pygments_lexer": "ipython3",
   "version": "3.7.3"
  }
 },
 "nbformat": 4,
 "nbformat_minor": 4
}
